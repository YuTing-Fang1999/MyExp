{
 "cells": [
  {
   "cell_type": "code",
   "execution_count": 3,
   "metadata": {},
   "outputs": [],
   "source": [
    "import cv2 as cv\n",
    "import numpy as np\n",
    "from aux2 import FeatureExtraction, feature_matching\n",
    "import os"
   ]
  },
  {
   "cell_type": "code",
   "execution_count": 4,
   "metadata": {},
   "outputs": [],
   "source": [
    "def align(img0, img1, features1):\n",
    "    features0 = FeatureExtraction(img0)\n",
    "    img0 = cv.cvtColor(img0, cv.COLOR_BGR2RGBA)\n",
    "\n",
    "    matches = feature_matching(features0, features1)\n",
    "    # matched_image = cv.drawMatches(img0, features0.kps, \\\n",
    "    #     img1, features1.kps, matches, None, flags=2)\n",
    "\n",
    "    H, _ = cv.findHomography( features0.matched_pts, \\\n",
    "        features1.matched_pts, cv.RANSAC, 5.0)\n",
    "\n",
    "    h, w, c = img1.shape\n",
    "    warped = cv.warpPerspective(img0, H, (w, h), \\\n",
    "        borderMode=cv.BORDER_CONSTANT, borderValue=(0, 0, 0, 0))\n",
    "    \n",
    "    # crop 300\n",
    "    crop = 0\n",
    "    warped = warped[crop:h-crop, crop:w-crop ,:]\n",
    "    \n",
    "    return warped\n",
    "\n"
   ]
  },
  {
   "cell_type": "code",
   "execution_count": 8,
   "metadata": {},
   "outputs": [
    {
     "name": "stdout",
     "output_type": "stream",
     "text": [
      "region0_train\\0.jpg\n",
      "region0_train\\1.jpg\n",
      "region0_train\\10.jpg\n"
     ]
    }
   ],
   "source": [
    "dataset_name = \"region1_train\"\n",
    "# align by this\n",
    "img1 = cv.imread(dataset_name+\"/0.jpg\")\n",
    "features1 = FeatureExtraction(img1)\n",
    "img1 = cv.cvtColor(img1, cv.COLOR_BGR2RGBA)\n",
    "\n",
    "os.makedirs(dataset_name+\"_align\", exist_ok=True)\n",
    "for f in os.listdir(dataset_name):\n",
    "    if \".jpg\" in f:\n",
    "        print(os.path.join(dataset_name,f))\n",
    "        img0 = cv.imread(os.path.join(dataset_name,f))\n",
    "        warped = align(img0, img1, features1)\n",
    "        cv.imwrite(dataset_name+\"_align/align_\"+f, cv.cvtColor(warped, cv.COLOR_RGBA2BGR))"
   ]
  },
  {
   "cell_type": "code",
   "execution_count": 9,
   "metadata": {},
   "outputs": [
    {
     "name": "stdout",
     "output_type": "stream",
     "text": [
      "region1_train\\0.jpg\n",
      "region1_train\\1.jpg\n",
      "region1_train\\10.jpg\n",
      "region1_train\\11.jpg\n",
      "region1_train\\12.jpg\n",
      "region1_train\\13.jpg\n",
      "region1_train\\14.jpg\n",
      "region1_train\\15.jpg\n",
      "region1_train\\16.jpg\n",
      "region1_train\\17.jpg\n",
      "region1_train\\18.jpg\n",
      "region1_train\\19.jpg\n",
      "region1_train\\2.jpg\n",
      "region1_train\\20.jpg\n",
      "region1_train\\21.jpg\n",
      "region1_train\\22.jpg\n",
      "region1_train\\23.jpg\n",
      "region1_train\\24.jpg\n",
      "region1_train\\25.jpg\n",
      "region1_train\\26.jpg\n",
      "region1_train\\27.jpg\n",
      "region1_train\\28.jpg\n",
      "region1_train\\29.jpg\n",
      "region1_train\\3.jpg\n",
      "region1_train\\30.jpg\n",
      "region1_train\\31.jpg\n",
      "region1_train\\32.jpg\n",
      "region1_train\\33.jpg\n",
      "region1_train\\34.jpg\n",
      "region1_train\\35.jpg\n",
      "region1_train\\36.jpg\n",
      "region1_train\\37.jpg\n",
      "region1_train\\38.jpg\n",
      "region1_train\\39.jpg\n",
      "region1_train\\4.jpg\n",
      "region1_train\\40.jpg\n",
      "region1_train\\41.jpg\n",
      "region1_train\\42.jpg\n",
      "region1_train\\43.jpg\n",
      "region1_train\\44.jpg\n",
      "region1_train\\45.jpg\n",
      "region1_train\\46.jpg\n",
      "region1_train\\47.jpg\n",
      "region1_train\\48.jpg\n",
      "region1_train\\49.jpg\n",
      "region1_train\\5.jpg\n",
      "region1_train\\6.jpg\n",
      "region1_train\\7.jpg\n",
      "region1_train\\8.jpg\n",
      "region1_train\\9.jpg\n"
     ]
    }
   ],
   "source": [
    "dataset_name = \"region1_train\"\n",
    "# align by this\n",
    "img1 = cv.imread(dataset_name+\"/0.jpg\")\n",
    "features1 = FeatureExtraction(img1)\n",
    "img1 = cv.cvtColor(img1, cv.COLOR_BGR2RGBA)\n",
    "\n",
    "os.makedirs(dataset_name+\"_align\", exist_ok=True)\n",
    "for f in os.listdir(dataset_name):\n",
    "    if \".jpg\" in f:\n",
    "        print(os.path.join(dataset_name,f))\n",
    "        img0 = cv.imread(os.path.join(dataset_name,f))\n",
    "        warped = align(img0, img1, features1)\n",
    "        cv.imwrite(dataset_name+\"_align/align_\"+f, cv.cvtColor(warped, cv.COLOR_RGBA2BGR))"
   ]
  },
  {
   "cell_type": "code",
   "execution_count": 10,
   "metadata": {},
   "outputs": [
    {
     "name": "stdout",
     "output_type": "stream",
     "text": [
      "region2_train\\0.jpg\n",
      "region2_train\\1.jpg\n",
      "region2_train\\10.jpg\n",
      "region2_train\\11.jpg\n",
      "region2_train\\12.jpg\n",
      "region2_train\\13.jpg\n",
      "region2_train\\14.jpg\n",
      "region2_train\\15.jpg\n",
      "region2_train\\16.jpg\n",
      "region2_train\\17.jpg\n",
      "region2_train\\18.jpg\n",
      "region2_train\\19.jpg\n",
      "region2_train\\2.jpg\n",
      "region2_train\\20.jpg\n",
      "region2_train\\21.jpg\n",
      "region2_train\\22.jpg\n",
      "region2_train\\23.jpg\n",
      "region2_train\\24.jpg\n",
      "region2_train\\25.jpg\n",
      "region2_train\\26.jpg\n",
      "region2_train\\27.jpg\n",
      "region2_train\\28.jpg\n",
      "region2_train\\29.jpg\n",
      "region2_train\\3.jpg\n",
      "region2_train\\30.jpg\n",
      "region2_train\\31.jpg\n",
      "region2_train\\32.jpg\n",
      "region2_train\\33.jpg\n",
      "region2_train\\34.jpg\n",
      "region2_train\\35.jpg\n",
      "region2_train\\36.jpg\n",
      "region2_train\\37.jpg\n",
      "region2_train\\38.jpg\n",
      "region2_train\\39.jpg\n",
      "region2_train\\4.jpg\n",
      "region2_train\\40.jpg\n",
      "region2_train\\41.jpg\n",
      "region2_train\\42.jpg\n",
      "region2_train\\43.jpg\n",
      "region2_train\\44.jpg\n",
      "region2_train\\45.jpg\n",
      "region2_train\\46.jpg\n",
      "region2_train\\47.jpg\n",
      "region2_train\\48.jpg\n",
      "region2_train\\49.jpg\n",
      "region2_train\\5.jpg\n",
      "region2_train\\6.jpg\n",
      "region2_train\\7.jpg\n",
      "region2_train\\8.jpg\n",
      "region2_train\\9.jpg\n"
     ]
    }
   ],
   "source": [
    "dataset_name = \"region2_train\"\n",
    "# align by this\n",
    "img1 = cv.imread(dataset_name+\"/0.jpg\")\n",
    "features1 = FeatureExtraction(img1)\n",
    "img1 = cv.cvtColor(img1, cv.COLOR_BGR2RGBA)\n",
    "\n",
    "os.makedirs(dataset_name+\"_align\", exist_ok=True)\n",
    "for f in os.listdir(dataset_name):\n",
    "    if \".jpg\" in f:\n",
    "        print(os.path.join(dataset_name,f))\n",
    "        img0 = cv.imread(os.path.join(dataset_name,f))\n",
    "        warped = align(img0, img1, features1)\n",
    "        cv.imwrite(dataset_name+\"_align/align_\"+f, cv.cvtColor(warped, cv.COLOR_RGBA2BGR))"
   ]
  },
  {
   "cell_type": "code",
   "execution_count": 7,
   "metadata": {},
   "outputs": [
    {
     "data": {
      "text/plain": [
       "True"
      ]
     },
     "execution_count": 7,
     "metadata": {},
     "output_type": "execute_result"
    }
   ],
   "source": [
    "img1 = cv.imread(\"region0_noisy.jpg\")\n",
    "features1 = FeatureExtraction(img1)\n",
    "img1 = cv.cvtColor(img1, cv.COLOR_BGR2RGBA)\n",
    "\n",
    "f = \"region0_target.jpg\"\n",
    "img0 = cv.imread(f)\n",
    "warped = align(img0, img1, features1)\n",
    "cv.imwrite(\"align_\"+f, cv.cvtColor(warped, cv.COLOR_RGBA2BGR))"
   ]
  }
 ],
 "metadata": {
  "kernelspec": {
   "display_name": "Python 3",
   "language": "python",
   "name": "python3"
  },
  "language_info": {
   "codemirror_mode": {
    "name": "ipython",
    "version": 3
   },
   "file_extension": ".py",
   "mimetype": "text/x-python",
   "name": "python",
   "nbconvert_exporter": "python",
   "pygments_lexer": "ipython3",
   "version": "3.10.9"
  },
  "orig_nbformat": 4
 },
 "nbformat": 4,
 "nbformat_minor": 2
}
